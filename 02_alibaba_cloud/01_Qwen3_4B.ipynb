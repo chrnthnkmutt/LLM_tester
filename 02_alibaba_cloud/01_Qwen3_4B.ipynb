{
  "nbformat": 4,
  "nbformat_minor": 0,
  "metadata": {
    "colab": {
      "provenance": [],
      "gpuType": "T4",
      "authorship_tag": "ABX9TyNY9PT4KUpfHkdkCA1OCxm1",
      "include_colab_link": true
    },
    "kernelspec": {
      "name": "python3",
      "display_name": "Python 3"
    },
    "language_info": {
      "name": "python"
    },
    "accelerator": "GPU"
  },
  "cells": [
    {
      "cell_type": "markdown",
      "metadata": {
        "id": "view-in-github",
        "colab_type": "text"
      },
      "source": [
        "<a href=\"https://colab.research.google.com/github/chrnthnkmutt/LLM_tester/blob/main/03_Qwen3_4B.ipynb\" target=\"_parent\"><img src=\"https://colab.research.google.com/assets/colab-badge.svg\" alt=\"Open In Colab\"/></a>"
      ]
    },
    {
      "cell_type": "markdown",
      "source": [
        "# Qwen3 4B Inference and Tokenization with Google Colaboratory\n",
        "Please make sure that you run this file with the Graphic Processing Unit of NVIDIA Tesla T4 by changing it in runtime. And please try not to forget to disconnect it, as for your benefits on the future uses."
      ],
      "metadata": {
        "id": "oeCK0n5Ol-xI"
      }
    },
    {
      "cell_type": "markdown",
      "source": [
        "## Test with Thai Language (Vocab Tokenization)"
      ],
      "metadata": {
        "id": "pb95rxqbo0bY"
      }
    },
    {
      "cell_type": "code",
      "source": [
        "!wget https://huggingface.co/Qwen/Qwen3-4B/raw/main/tokenizer.json"
      ],
      "metadata": {
        "id": "jtgrVToDncYg",
        "colab": {
          "base_uri": "https://localhost:8080/"
        },
        "outputId": "d1e9bdba-3da1-4a36-a67e-36136ac05b72"
      },
      "execution_count": null,
      "outputs": [
        {
          "output_type": "stream",
          "name": "stdout",
          "text": [
            "--2025-04-29 02:57:17--  https://huggingface.co/Qwen/Qwen3-4B/raw/main/tokenizer.json\n",
            "Resolving huggingface.co (huggingface.co)... 13.33.45.37, 13.33.45.10, 13.33.45.84, ...\n",
            "Connecting to huggingface.co (huggingface.co)|13.33.45.37|:443... connected.\n",
            "HTTP request sent, awaiting response... 200 OK\n",
            "Length: 133 [text/plain]\n",
            "Saving to: ‘tokenizer.json’\n",
            "\n",
            "tokenizer.json      100%[===================>]     133  --.-KB/s    in 0s      \n",
            "\n",
            "2025-04-29 02:57:17 (69.6 MB/s) - ‘tokenizer.json’ saved [133/133]\n",
            "\n"
          ]
        }
      ]
    },
    {
      "cell_type": "code",
      "source": [
        "import json"
      ],
      "metadata": {
        "id": "8C5i1Qh3pHyz"
      },
      "execution_count": null,
      "outputs": []
    },
    {
      "cell_type": "code",
      "source": [
        "data = json.load(open('tokenizer.json'))"
      ],
      "metadata": {
        "id": "6Zqw1y4QpMN9"
      },
      "execution_count": null,
      "outputs": []
    },
    {
      "cell_type": "code",
      "source": [
        "data.keys()"
      ],
      "metadata": {
        "colab": {
          "base_uri": "https://localhost:8080/"
        },
        "id": "2GWMyvaFpOlX",
        "outputId": "7a3001fd-3680-4e51-f59e-fab89cf2d00d"
      },
      "execution_count": null,
      "outputs": [
        {
          "output_type": "execute_result",
          "data": {
            "text/plain": [
              "dict_keys(['version', 'truncation', 'padding', 'added_tokens', 'normalizer', 'pre_tokenizer', 'post_processor', 'decoder', 'model'])"
            ]
          },
          "metadata": {},
          "execution_count": 5
        }
      ]
    },
    {
      "cell_type": "code",
      "source": [
        "data['model'].keys()"
      ],
      "metadata": {
        "colab": {
          "base_uri": "https://localhost:8080/"
        },
        "id": "IQGKCYlBpvtQ",
        "outputId": "98779889-96e7-4843-85d4-31112b402aac"
      },
      "execution_count": null,
      "outputs": [
        {
          "output_type": "execute_result",
          "data": {
            "text/plain": [
              "dict_keys(['type', 'dropout', 'unk_token', 'continuing_subword_prefix', 'end_of_word_suffix', 'fuse_unk', 'byte_fallback', 'ignore_merges', 'vocab', 'merges'])"
            ]
          },
          "metadata": {},
          "execution_count": 6
        }
      ]
    },
    {
      "cell_type": "code",
      "source": [
        "vocab = data['model']['vocab']\n",
        "type(vocab), len(vocab)"
      ],
      "metadata": {
        "colab": {
          "base_uri": "https://localhost:8080/"
        },
        "id": "xoNH8zyIqT11",
        "outputId": "47c8ee7d-8691-4967-801c-f635648c65c0"
      },
      "execution_count": null,
      "outputs": [
        {
          "output_type": "execute_result",
          "data": {
            "text/plain": [
              "(dict, 151643)"
            ]
          },
          "metadata": {},
          "execution_count": 7
        }
      ]
    },
    {
      "cell_type": "code",
      "source": [
        "list(vocab.keys())[:20]"
      ],
      "metadata": {
        "colab": {
          "base_uri": "https://localhost:8080/"
        },
        "id": "-SxmjB5dqVw7",
        "outputId": "05156a3f-3389-40e7-b001-ae0a5d8e0081"
      },
      "execution_count": null,
      "outputs": [
        {
          "output_type": "execute_result",
          "data": {
            "text/plain": [
              "['!',\n",
              " '\"',\n",
              " '#',\n",
              " '$',\n",
              " '%',\n",
              " '&',\n",
              " \"'\",\n",
              " '(',\n",
              " ')',\n",
              " '*',\n",
              " '+',\n",
              " ',',\n",
              " '-',\n",
              " '.',\n",
              " '/',\n",
              " '0',\n",
              " '1',\n",
              " '2',\n",
              " '3',\n",
              " '4']"
            ]
          },
          "metadata": {},
          "execution_count": 8
        }
      ]
    },
    {
      "cell_type": "code",
      "source": [
        "list(vocab.keys())[259:600]"
      ],
      "metadata": {
        "colab": {
          "base_uri": "https://localhost:8080/"
        },
        "id": "L__OKuVrqYzs",
        "outputId": "afaf28b2-f481-4eda-bb1b-bb07859f0f89"
      },
      "execution_count": null,
      "outputs": [
        {
          "output_type": "execute_result",
          "data": {
            "text/plain": [
              "['Ġt',\n",
              " 'ĠĠĠĠĠĠĠĠ',\n",
              " 'er',\n",
              " 'ĠĠĠ',\n",
              " 'on',\n",
              " 'Ġa',\n",
              " 're',\n",
              " 'at',\n",
              " 'st',\n",
              " 'en',\n",
              " 'or',\n",
              " 'Ġth',\n",
              " 'ĊĊ',\n",
              " 'Ġc',\n",
              " 'le',\n",
              " 'Ġs',\n",
              " 'it',\n",
              " 'an',\n",
              " 'ar',\n",
              " 'al',\n",
              " 'Ġthe',\n",
              " ';Ċ',\n",
              " 'Ġp',\n",
              " 'Ġf',\n",
              " 'ou',\n",
              " 'Ġ=',\n",
              " 'is',\n",
              " 'ĠĠĠĠĠĠĠ',\n",
              " 'ing',\n",
              " 'es',\n",
              " 'Ġw',\n",
              " 'ion',\n",
              " 'ed',\n",
              " 'ic',\n",
              " 'Ġb',\n",
              " 'Ġd',\n",
              " 'et',\n",
              " 'Ġm',\n",
              " 'Ġo',\n",
              " 'ĉĉ',\n",
              " 'ro',\n",
              " 'as',\n",
              " 'el',\n",
              " 'ct',\n",
              " 'nd',\n",
              " 'Ġin',\n",
              " 'Ġh',\n",
              " 'ent',\n",
              " 'id',\n",
              " 'Ġn',\n",
              " 'am',\n",
              " 'ĠĠĠĠĠĠĠĠĠĠĠ',\n",
              " 'Ġto',\n",
              " 'Ġre',\n",
              " '--',\n",
              " 'Ġ{',\n",
              " 'Ġof',\n",
              " 'om',\n",
              " ');Ċ',\n",
              " 'im',\n",
              " 'čĊ',\n",
              " 'Ġ(',\n",
              " 'il',\n",
              " '//',\n",
              " 'Ġand',\n",
              " 'ur',\n",
              " 'se',\n",
              " 'Ġl',\n",
              " 'ex',\n",
              " 'ĠS',\n",
              " 'ad',\n",
              " 'Ġ\"',\n",
              " 'ch',\n",
              " 'ut',\n",
              " 'if',\n",
              " '**',\n",
              " 'Ġ}',\n",
              " 'em',\n",
              " 'ol',\n",
              " 'ĠĠĠĠĠĠĠĠĠĠĠĠĠĠĠĠ',\n",
              " 'th',\n",
              " ')Ċ',\n",
              " 'Ġ{Ċ',\n",
              " 'Ġg',\n",
              " 'ig',\n",
              " 'iv',\n",
              " ',Ċ',\n",
              " 'ce',\n",
              " 'od',\n",
              " 'Ġv',\n",
              " 'ate',\n",
              " 'ĠT',\n",
              " 'ag',\n",
              " 'ay',\n",
              " 'Ġ*',\n",
              " 'ot',\n",
              " 'us',\n",
              " 'ĠC',\n",
              " 'Ġst',\n",
              " 'ĠI',\n",
              " 'un',\n",
              " 'ul',\n",
              " 'ue',\n",
              " 'ĠA',\n",
              " 'ow',\n",
              " \"Ġ'\",\n",
              " 'ew',\n",
              " 'Ġ<',\n",
              " 'ation',\n",
              " '()',\n",
              " 'Ġfor',\n",
              " 'ab',\n",
              " 'ort',\n",
              " 'um',\n",
              " 'ame',\n",
              " 'Ġis',\n",
              " 'pe',\n",
              " 'tr',\n",
              " 'ck',\n",
              " 'âĢ',\n",
              " 'Ġy',\n",
              " 'ist',\n",
              " '----',\n",
              " '.ĊĊ',\n",
              " 'he',\n",
              " 'Ġe',\n",
              " 'lo',\n",
              " 'ĠM',\n",
              " 'Ġbe',\n",
              " 'ers',\n",
              " 'Ġon',\n",
              " 'Ġcon',\n",
              " 'ap',\n",
              " 'ub',\n",
              " 'ĠP',\n",
              " 'ĠĠĠĠĠĠĠĠĠĠĠĠĠĠĠ',\n",
              " 'ass',\n",
              " 'int',\n",
              " '>Ċ',\n",
              " 'ly',\n",
              " 'urn',\n",
              " 'Ġ$',\n",
              " ';ĊĊ',\n",
              " 'av',\n",
              " 'port',\n",
              " 'ir',\n",
              " '->',\n",
              " 'nt',\n",
              " 'ction',\n",
              " 'end',\n",
              " 'Ġde',\n",
              " 'ith',\n",
              " 'out',\n",
              " 'turn',\n",
              " 'our',\n",
              " 'ĠĠĠĠĠ',\n",
              " 'lic',\n",
              " 'res',\n",
              " 'pt',\n",
              " '==',\n",
              " 'Ġthis',\n",
              " 'Ġwh',\n",
              " 'Ġif',\n",
              " 'ĠD',\n",
              " 'ver',\n",
              " 'age',\n",
              " 'ĠB',\n",
              " 'ht',\n",
              " 'ext',\n",
              " '=\"',\n",
              " 'Ġthat',\n",
              " '****',\n",
              " 'ĠR',\n",
              " 'Ġit',\n",
              " 'ess',\n",
              " 'ĠF',\n",
              " 'Ġr',\n",
              " 'os',\n",
              " 'and',\n",
              " 'Ġas',\n",
              " 'ect',\n",
              " 'ke',\n",
              " 'rom',\n",
              " 'Ġ//',\n",
              " 'con',\n",
              " 'ĠL',\n",
              " '(\"',\n",
              " 'qu',\n",
              " 'lass',\n",
              " 'Ġwith',\n",
              " 'iz',\n",
              " 'de',\n",
              " 'ĠN',\n",
              " 'Ġal',\n",
              " 'op',\n",
              " 'up',\n",
              " 'get',\n",
              " 'Ġ}Ċ',\n",
              " 'ile',\n",
              " 'Ġan',\n",
              " 'ata',\n",
              " 'ore',\n",
              " 'ri',\n",
              " 'Ġpro',\n",
              " ';čĊ',\n",
              " 'ĉĉĉĉ',\n",
              " 'ter',\n",
              " 'ain',\n",
              " 'ĠW',\n",
              " 'ĠE',\n",
              " 'Ġcom',\n",
              " 'Ġreturn',\n",
              " 'art',\n",
              " 'ĠH',\n",
              " 'ack',\n",
              " 'import',\n",
              " 'ublic',\n",
              " 'Ġor',\n",
              " 'est',\n",
              " 'ment',\n",
              " 'ĠG',\n",
              " 'able',\n",
              " 'Ġ-',\n",
              " 'ine',\n",
              " 'ill',\n",
              " 'ind',\n",
              " 'ere',\n",
              " '::',\n",
              " 'ity',\n",
              " 'Ġ+',\n",
              " 'Ġtr',\n",
              " 'elf',\n",
              " 'ight',\n",
              " \"('\",\n",
              " 'orm',\n",
              " 'ult',\n",
              " 'str',\n",
              " '..',\n",
              " '\",',\n",
              " 'Ġyou',\n",
              " 'ype',\n",
              " 'pl',\n",
              " 'Ġnew',\n",
              " 'Ġj',\n",
              " 'ĠĠĠĠĠĠĠĠĠĠĠĠĠĠĠĠĠĠĠ',\n",
              " 'Ġfrom',\n",
              " 'Ġex',\n",
              " 'ĠO',\n",
              " 'ld',\n",
              " 'Ġ[',\n",
              " 'oc',\n",
              " ':Ċ',\n",
              " 'Ġse',\n",
              " 'Ġle',\n",
              " '--------',\n",
              " '.s',\n",
              " '{Ċ',\n",
              " \"',\",\n",
              " 'ant',\n",
              " 'Ġat',\n",
              " 'ase',\n",
              " '.c',\n",
              " 'Ġch',\n",
              " '</',\n",
              " 'ave',\n",
              " 'ang',\n",
              " 'Ġare',\n",
              " 'Ġint',\n",
              " 'âĢĻ',\n",
              " '_t',\n",
              " 'ert',\n",
              " 'ial',\n",
              " 'act',\n",
              " '}Ċ',\n",
              " 'ive',\n",
              " 'ode',\n",
              " 'ost',\n",
              " 'Ġclass',\n",
              " 'Ġnot',\n",
              " 'og',\n",
              " 'ord',\n",
              " 'alue',\n",
              " 'all',\n",
              " 'ff',\n",
              " '();Ċ',\n",
              " 'ont',\n",
              " 'ime',\n",
              " 'are',\n",
              " 'ĠU',\n",
              " 'Ġpr',\n",
              " 'Ġ:',\n",
              " 'ies',\n",
              " 'ize',\n",
              " 'ure',\n",
              " 'Ġby',\n",
              " 'ire',\n",
              " 'Ġ}ĊĊ',\n",
              " '.p',\n",
              " 'Ġsh',\n",
              " 'ice',\n",
              " 'ast',\n",
              " 'ption',\n",
              " 'tring',\n",
              " 'ok',\n",
              " '__',\n",
              " 'cl',\n",
              " '##',\n",
              " 'Ġhe',\n",
              " 'ard',\n",
              " ').',\n",
              " 'Ġ@',\n",
              " 'iew',\n",
              " 'ĉĉĉ',\n",
              " 'Ġwas',\n",
              " 'ip',\n",
              " 'this',\n",
              " 'Ġu',\n",
              " 'ĠThe',\n",
              " 'ide',\n",
              " 'ace',\n",
              " 'ib',\n",
              " 'ac',\n",
              " 'rou',\n",
              " 'Ġwe',\n",
              " 'ject',\n",
              " 'Ġpublic',\n",
              " 'ak',\n",
              " 've',\n",
              " 'ath',\n",
              " 'oid',\n",
              " 'Ġ=>',\n",
              " 'ust',\n",
              " 'que',\n",
              " 'Ġres',\n",
              " '))',\n",
              " \"'s\",\n",
              " 'Ġk',\n",
              " 'ans',\n",
              " 'yst',\n",
              " 'unction',\n",
              " '********']"
            ]
          },
          "metadata": {},
          "execution_count": 9
        }
      ]
    },
    {
      "cell_type": "code",
      "source": [
        "import re"
      ],
      "metadata": {
        "id": "R75-XQ9sqabU"
      },
      "execution_count": null,
      "outputs": []
    },
    {
      "cell_type": "code",
      "source": [
        "pat = re.compile('[ก-๙]')"
      ],
      "metadata": {
        "id": "SM97zi59qc-j"
      },
      "execution_count": null,
      "outputs": []
    },
    {
      "cell_type": "code",
      "source": [
        "thais = [v for v in vocab.keys() if pat.search(v)]\n",
        "len(thais)"
      ],
      "metadata": {
        "colab": {
          "base_uri": "https://localhost:8080/"
        },
        "id": "IfPO6D_NqeST",
        "outputId": "87648156-104b-45f6-f1ac-af96e4cc7807"
      },
      "execution_count": null,
      "outputs": [
        {
          "output_type": "execute_result",
          "data": {
            "text/plain": [
              "0"
            ]
          },
          "metadata": {},
          "execution_count": 12
        }
      ]
    },
    {
      "cell_type": "code",
      "source": [
        "','.join(sorted(thais))"
      ],
      "metadata": {
        "colab": {
          "base_uri": "https://localhost:8080/",
          "height": 36
        },
        "id": "wirb8-BIqfqp",
        "outputId": "d406c998-4252-4ad4-c60f-6831c7bd5249"
      },
      "execution_count": null,
      "outputs": [
        {
          "output_type": "execute_result",
          "data": {
            "text/plain": [
              "''"
            ],
            "application/vnd.google.colaboratory.intrinsic+json": {
              "type": "string"
            }
          },
          "metadata": {},
          "execution_count": 13
        }
      ]
    },
    {
      "cell_type": "code",
      "source": [
        "# ตัวอักษรไทยที่ควรมี\n",
        "thai_chars = []\n",
        "pat2 = re.compile('[ก-ฮะ-ูเ-์๐-๙]')\n",
        "for i in range(ord('ก'), ord('๙')+3):\n",
        "  if pat2.search(chr(i)):\n",
        "    thai_chars.append(chr(i))\n",
        "len(thai_chars)"
      ],
      "metadata": {
        "colab": {
          "base_uri": "https://localhost:8080/"
        },
        "id": "29B89Jqpqi0V",
        "outputId": "dd0d7c07-8fca-45a1-c73c-b978c27d8a72"
      },
      "execution_count": null,
      "outputs": [
        {
          "output_type": "execute_result",
          "data": {
            "text/plain": [
              "79"
            ]
          },
          "metadata": {},
          "execution_count": 14
        }
      ]
    },
    {
      "cell_type": "code",
      "source": [
        "# ตัวที่ขาดไป  ต้องใช้ >1 tokens\n",
        "[ch for ch in thai_chars if ch not in thais]"
      ],
      "metadata": {
        "colab": {
          "base_uri": "https://localhost:8080/"
        },
        "id": "ccldKXUFql8Z",
        "outputId": "163fac3e-6832-4a56-80cd-1aaa823d4af9"
      },
      "execution_count": null,
      "outputs": [
        {
          "output_type": "execute_result",
          "data": {
            "text/plain": [
              "['ก',\n",
              " 'ข',\n",
              " 'ฃ',\n",
              " 'ค',\n",
              " 'ฅ',\n",
              " 'ฆ',\n",
              " 'ง',\n",
              " 'จ',\n",
              " 'ฉ',\n",
              " 'ช',\n",
              " 'ซ',\n",
              " 'ฌ',\n",
              " 'ญ',\n",
              " 'ฎ',\n",
              " 'ฏ',\n",
              " 'ฐ',\n",
              " 'ฑ',\n",
              " 'ฒ',\n",
              " 'ณ',\n",
              " 'ด',\n",
              " 'ต',\n",
              " 'ถ',\n",
              " 'ท',\n",
              " 'ธ',\n",
              " 'น',\n",
              " 'บ',\n",
              " 'ป',\n",
              " 'ผ',\n",
              " 'ฝ',\n",
              " 'พ',\n",
              " 'ฟ',\n",
              " 'ภ',\n",
              " 'ม',\n",
              " 'ย',\n",
              " 'ร',\n",
              " 'ฤ',\n",
              " 'ล',\n",
              " 'ฦ',\n",
              " 'ว',\n",
              " 'ศ',\n",
              " 'ษ',\n",
              " 'ส',\n",
              " 'ห',\n",
              " 'ฬ',\n",
              " 'อ',\n",
              " 'ฮ',\n",
              " 'ะ',\n",
              " 'ั',\n",
              " 'า',\n",
              " 'ำ',\n",
              " 'ิ',\n",
              " 'ี',\n",
              " 'ึ',\n",
              " 'ื',\n",
              " 'ุ',\n",
              " 'ู',\n",
              " 'เ',\n",
              " 'แ',\n",
              " 'โ',\n",
              " 'ใ',\n",
              " 'ไ',\n",
              " 'ๅ',\n",
              " 'ๆ',\n",
              " '็',\n",
              " '่',\n",
              " '้',\n",
              " '๊',\n",
              " '๋',\n",
              " '์',\n",
              " '๐',\n",
              " '๑',\n",
              " '๒',\n",
              " '๓',\n",
              " '๔',\n",
              " '๕',\n",
              " '๖',\n",
              " '๗',\n",
              " '๘',\n",
              " '๙']"
            ]
          },
          "metadata": {},
          "execution_count": 15
        }
      ]
    },
    {
      "cell_type": "code",
      "source": [
        "from transformers import pipeline\n",
        "import torch\n",
        "\n",
        "pipe = pipeline(\n",
        "    \"text-generation\",\n",
        "    model=\"Qwen/Qwen3-4B\",\n",
        "    device=\"cuda\",\n",
        "    torch_dtype=torch.bfloat16\n",
        ")"
      ],
      "metadata": {
        "id": "tX1246YtOPez"
      },
      "execution_count": null,
      "outputs": []
    },
    {
      "cell_type": "code",
      "source": [
        "messages = [\n",
        "    {\"role\": \"system\", \"content\": \"You are a helpful assistant.\"},\n",
        "    {\"role\": \"user\", \"content\": \"กรุงเทพเป็นเมืองหลวงของประเทศอะไร\"},\n",
        "]\n",
        "\n",
        "# Convert the list of messages into a single string\n",
        "text_input = messages[1]['content'] # Extract the user's message as the text input\n",
        "\n",
        "# Call the pipeline with the correct argument name\n",
        "output = pipe(text_inputs=text_input, max_new_tokens=200)\n",
        "# Access the generated text directly\n",
        "print(output[0]['generated_text'])"
      ],
      "metadata": {
        "colab": {
          "base_uri": "https://localhost:8080/"
        },
        "id": "d3pgjK9SOb9U",
        "outputId": "33a96625-3458-4cd7-9c79-a09adf40fe61"
      },
      "execution_count": 4,
      "outputs": [
        {
          "output_type": "stream",
          "name": "stdout",
          "text": [
            "กรุงเทพเป็นเมืองหลวงของประเทศอะไร? \n",
            "\n",
            "กรุงเทพฯ เป็นเมืองหลวงของประเทศ **ไทย** (ประเทศไทย) ซึ่งเป็นประเทศในเอเชียตะวันออกเฉียงใต้ ที่ตั้งอยู่ในพื้นที่ภาคกลางของประเทศ กรุงเทพฯ ยังเป็นศูนย์กลางทางเศรษฐกิจ การค้า วัฒนธรรม และการท่องเที่ยวสำคัญของประเทศ รวมถึงเป็นเมืองที่มีประชากรมากที่สุดในประเทศไทย\n",
            "\n",
            "หากคุณต้องการข้อมูลเพิ่มเติมเกี่ยวกับกรุงเทพฯ หรือประเทศไทย แจ้งได้เลยครับ! 😊\n",
            "**Answer:**  \n",
            "กรุงเทพฯ เป็นเมืองหลวงของประเทศ **ไทย** (ประเทศไทย) ซึ่งตั้งอยู่ในภาคกลางของ\n"
          ]
        }
      ]
    },
    {
      "cell_type": "code",
      "source": [],
      "metadata": {
        "id": "nsHzH03tPK96"
      },
      "execution_count": null,
      "outputs": []
    }
  ]
}